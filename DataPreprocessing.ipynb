{
 "cells": [
  {
   "cell_type": "markdown",
   "id": "e61db409",
   "metadata": {
    "heading_collapsed": true
   },
   "source": [
    "# Packages"
   ]
  },
  {
   "cell_type": "code",
   "execution_count": 1,
   "id": "996e46c3",
   "metadata": {
    "hidden": true
   },
   "outputs": [],
   "source": [
    "import pandas as pd\n",
    "import glob\n",
    "import ast\n",
    "import os\n",
    "from tqdm import tqdm\n",
    "import numpy as np\n",
    "from collections import Counter\n",
    "import warnings\n",
    "warnings.filterwarnings(\"ignore\")"
   ]
  },
  {
   "cell_type": "markdown",
   "id": "ffa200f7",
   "metadata": {
    "heading_collapsed": true
   },
   "source": [
    "# Functions"
   ]
  },
  {
   "cell_type": "code",
   "execution_count": 2,
   "id": "ec5841e6",
   "metadata": {
    "hidden": true
   },
   "outputs": [],
   "source": [
    "def flatten(A):\n",
    "    rt = []\n",
    "    for i in A:\n",
    "        if isinstance(i,list): rt.extend(flatten(i))\n",
    "        else: rt.append(i)\n",
    "    return rt"
   ]
  },
  {
   "cell_type": "code",
   "execution_count": 3,
   "id": "f531b684",
   "metadata": {
    "hidden": true
   },
   "outputs": [],
   "source": [
    "def remove_outliers(df):\n",
    "    \n",
    "    feature_titles = ['Room Count', 'Floor Count', 'Price', 'Interior Area']\n",
    "\n",
    "    outlier_indexes = []\n",
    "    for title in tqdm(feature_titles):\n",
    "        q25, q75 = np.nanpercentile(df[title], 25), np.nanpercentile(df[title], 75)\n",
    "        iqr = q75 - q25\n",
    "\n",
    "        cut_off = iqr * 1.5\n",
    "        lower, upper = q25 - cut_off, q75 + cut_off\n",
    "\n",
    "        outliers_indices = [count for count, x in enumerate(df[title]) if x < lower or x > upper]\n",
    "        outlier_indexes.append(outliers_indices)\n",
    "        \n",
    "        print('Identified outliers: %d' % len(outliers_indices))\n",
    "\n",
    "        if len(outliers_indices) == 0:\n",
    "            print('Non-outlier observations: %d' % df.shape[0])\n",
    "            print('________________________________')\n",
    "            outliers_indices = []\n",
    "            continue\n",
    "        \n",
    "        else:\n",
    "            print('Non-outlier observations: %d' % (df.shape[0] - len(outliers_indices)))\n",
    "            print('________________________________')\n",
    "            outliers_indices = []\n",
    "\n",
    "    outlier_indexes = list(set(flatten(outlier_indexes)))    \n",
    "    indexes_to_keep = set(range(df.shape[0])) - set(outlier_indexes)\n",
    "    df_no_outliers = df.take(list(indexes_to_keep))\n",
    "    \n",
    "    return df_no_outliers"
   ]
  },
  {
   "cell_type": "markdown",
   "id": "da877585",
   "metadata": {
    "heading_collapsed": true
   },
   "source": [
    "# Preprocessing"
   ]
  },
  {
   "cell_type": "markdown",
   "id": "986a2a76",
   "metadata": {
    "heading_collapsed": true,
    "hidden": true
   },
   "source": [
    "## With Facilities (w/o list.am)"
   ]
  },
  {
   "cell_type": "markdown",
   "id": "144cb1ed",
   "metadata": {
    "heading_collapsed": true,
    "hidden": true
   },
   "source": [
    "### Concatenate"
   ]
  },
  {
   "cell_type": "code",
   "execution_count": 4,
   "id": "1b3b0931",
   "metadata": {
    "hidden": true
   },
   "outputs": [],
   "source": [
    "csvs = ['bnakaran.csv', 'DataRealEstate.csv', 'EstateAmData.csv', 'MyRealty.csv']\n",
    "\n",
    "path = os.getcwd()\n",
    "all_files = glob.glob(os.path.join(path, \"*.csv\"))\n",
    "\n",
    "desired_files = []\n",
    "for csv in all_files:\n",
    "    for name in csvs:\n",
    "        if name in csv:\n",
    "            desired_files.append(csv)\n",
    "        else:\n",
    "            continue\n",
    "\n",
    "li = []\n",
    "for filename in desired_files:\n",
    "    df = pd.read_csv(filename, index_col=0, header=0)\n",
    "    li.append(df)\n",
    "\n",
    "frame = pd.concat(li, axis=0, ignore_index=True)\n",
    "frame.drop(columns=['Additional Info'], inplace=True)\n",
    "\n",
    "for count, row in enumerate(frame['Facilities']):\n",
    "    if row != row:\n",
    "        continue\n",
    "    else:\n",
    "        frame['Facilities'][count] = ast.literal_eval(row)\n",
    "\n",
    "for count, row in enumerate(frame['Building Material']):\n",
    "    if row != row:\n",
    "        continue\n",
    "    else:\n",
    "        frame['Building Material'][count] = row.lower()"
   ]
  },
  {
   "cell_type": "markdown",
   "id": "4d29bc01",
   "metadata": {
    "heading_collapsed": true,
    "hidden": true
   },
   "source": [
    "### Mapping"
   ]
  },
  {
   "cell_type": "code",
   "execution_count": 5,
   "id": "49906d24",
   "metadata": {
    "hidden": true
   },
   "outputs": [],
   "source": [
    "all_facilities = []\n",
    "for row in frame['Facilities']:\n",
    "    if row != row:\n",
    "        continue \n",
    "    for i in range(len(row)):\n",
    "        all_facilities.append(row[i])"
   ]
  },
  {
   "cell_type": "code",
   "execution_count": 6,
   "id": "cddd3d9b",
   "metadata": {
    "hidden": true
   },
   "outputs": [],
   "source": [
    "all_materials = []\n",
    "for row in frame['Building Material']:\n",
    "    if row != row:\n",
    "        continue \n",
    "    else:\n",
    "        all_materials.append(row)"
   ]
  },
  {
   "cell_type": "code",
   "execution_count": 7,
   "id": "09434c05",
   "metadata": {
    "hidden": true
   },
   "outputs": [
    {
     "data": {
      "text/plain": [
       "<bound method Counter.most_common of Counter({'Electricity': 12319, 'Water': 12236, 'Gas': 11139, 'Heating': 10220, 'Hot water': 10058, 'Internet': 8468, 'Air-conditioner': 7897, 'water 24/7': 5658, 'Standing water': 5190, 'Sewerage, Canalization': 2386, 'Natural gas': 1114, 'Central heating': 948, 'Irrigation': 360, 'Persistent water': 210, 'Open balcony': 130, 'Euro windows': 119, 'Sunny': 114, 'Elevator': 104, 'Iron door': 99, 'View': 97, 'Close to the bus station': 69, 'TV': 56, 'Roadside': 51, 'Tile': 41, 'Park': 40, 'Cable TV': 40, 'Bilateral': 38, 'Playground': 35, 'Furniture': 35, 'Internet, Wi-Fi': 31, 'Equipment': 28, 'TV, cable': 27, 'Balcony': 23, 'Laminate flooring': 20, 'Parquet': 20, 'Parking': 19, 'Garage': 15, 'Security system': 15, 'Basement': 14, 'Loggia': 8, 'Storage room': 7, 'High first floor': 7, 'Fence': 5, 'Grating': 5, 'Swimming pool': 5, 'TV, cable, satellite': 4, 'TV, satellite': 4, 'Heated floor': 4, 'Gate': 3, 'Attic': 3, 'Gym': 3, 'Fireplace': 2, 'Sauna': 2, 'Three-Phase wiring': 2})>"
      ]
     },
     "execution_count": 7,
     "metadata": {},
     "output_type": "execute_result"
    }
   ],
   "source": [
    "Counter(all_facilities).most_common"
   ]
  },
  {
   "cell_type": "code",
   "execution_count": 8,
   "id": "822be3e6",
   "metadata": {
    "hidden": true
   },
   "outputs": [
    {
     "data": {
      "text/plain": [
       "<bound method Counter.most_common of Counter({'stone': 6424, 'monolit': 4166, 'panel': 2596, 'other': 813, 'concrete': 599, 'wall building': 169, 'մոնոլիտ': 1, 'քարե': 1, 'монолит': 1})>"
      ]
     },
     "execution_count": 8,
     "metadata": {},
     "output_type": "execute_result"
    }
   ],
   "source": [
    "Counter(all_materials).most_common"
   ]
  },
  {
   "cell_type": "code",
   "execution_count": 9,
   "id": "bff61b18",
   "metadata": {
    "hidden": true
   },
   "outputs": [],
   "source": [
    "d = dict()\n",
    "\n",
    "d['Natural gas'] = ('Gas Available')\n",
    "d['Gas'] = ('Gas Available')\n",
    "\n",
    "d['Internet'] = ('Internet Available')\n",
    "d['Internet, Wi-Fi'] = ('Internet Available')\n",
    "\n",
    "d['water 24/7'] = ('Constant Water')\n",
    "d['Persistent water'] = ('Constant Water')\n",
    "d['Standing water'] = ('Constant Water')\n",
    "\n",
    "d['Sewerage, Canalization'] = ('Sewerage')\n",
    "\n",
    "d['stone'] = 'Stone'\n",
    "d['քարե'] = 'Stone'\n",
    "\n",
    "d['monolit'] = 'Monolit'\n",
    "d['concrete'] = 'Monolit'\n",
    "d['մոնոլիտ'] = 'Monolit'\n",
    "d['монолит'] = 'Monolit'\n",
    "\n",
    "d['wall building'] = 'Panel'\n",
    "d['panel'] = 'Panel'"
   ]
  },
  {
   "cell_type": "code",
   "execution_count": 10,
   "id": "148687b3",
   "metadata": {
    "hidden": true
   },
   "outputs": [],
   "source": [
    "for count, row in enumerate(frame['Building Material']):\n",
    "    if row in d:\n",
    "        frame['Building Material'][count] = d[row]\n",
    "    else:\n",
    "        continue"
   ]
  },
  {
   "cell_type": "code",
   "execution_count": 11,
   "id": "5f87b4c8",
   "metadata": {
    "hidden": true
   },
   "outputs": [],
   "source": [
    "for count, row in enumerate(frame['Facilities']):\n",
    "    if row != row:\n",
    "        continue\n",
    "    for i in range(len(row)):\n",
    "        if row[i] in d:\n",
    "            frame['Facilities'][count][i] = d[row[i]]\n",
    "        else:\n",
    "            continue"
   ]
  },
  {
   "cell_type": "markdown",
   "id": "0225aeb7",
   "metadata": {
    "heading_collapsed": true,
    "hidden": true
   },
   "source": [
    "### Add Columns & One Hot Encode"
   ]
  },
  {
   "cell_type": "code",
   "execution_count": 12,
   "id": "be408e0d",
   "metadata": {
    "hidden": true
   },
   "outputs": [],
   "source": [
    "frame = frame.reindex(columns = frame.columns.tolist() + ['Electricity', 'Water', 'Gas Available',\n",
    "                                                         'Heating', 'Hot water', 'Internet Available',\n",
    "                                                         'Air-conditioner', 'Constant Water', 'Sewerage'])\n"
   ]
  },
  {
   "cell_type": "code",
   "execution_count": 13,
   "id": "8dcf0b69",
   "metadata": {
    "hidden": true
   },
   "outputs": [],
   "source": [
    "for counter, row in enumerate(frame['Facilities']):\n",
    "    if row != row:\n",
    "        continue  \n",
    "    for i in range(len(row)):\n",
    "        if 'Electricity' in row[i]:\n",
    "            frame['Electricity'][counter] = 1\n",
    "        elif 'Water' in row[i]:\n",
    "            frame['Water'][counter] = 1\n",
    "        elif 'Gas Available' in row[i]:\n",
    "            frame['Gas Available'][counter] = 1\n",
    "        elif 'Heating' in row[i]:\n",
    "            frame['Heating'][counter] = 1\n",
    "        elif 'Hot water' in row[i]:\n",
    "            frame['Hot water'][counter] = 1\n",
    "        elif 'Internet Available' in row[i]:\n",
    "            frame['Internet Available'][counter] = 1\n",
    "        elif 'Air-conditioner' in row[i]:\n",
    "            frame['Air-conditioner'][counter] = 1\n",
    "        elif 'Constant Water' in row[i]:\n",
    "            frame['Constant Water'][counter] = 1\n",
    "        elif 'Sewerage' in row[i]:\n",
    "            frame['Sewerage'][counter] = 1\n",
    "        else:\n",
    "            if i == len(row):\n",
    "                frame['Electricity'][counter] = 0\n",
    "                frame['Water'][counter] = 0\n",
    "                frame['Gas Available'][counter] = 0\n",
    "                frame['Heating'][counter] = 0\n",
    "                frame['Hot water'][counter] = 0\n",
    "                frame['Internet Available'][counter] = 0\n",
    "                frame['Air-conditioner'][counter] = 0\n",
    "                frame['Constant Water'][counter] = 0\n",
    "                frame['Sewerage'][counter] = 0\n",
    "            else:\n",
    "                continue"
   ]
  },
  {
   "cell_type": "code",
   "execution_count": 14,
   "id": "1b7c2118",
   "metadata": {
    "hidden": true
   },
   "outputs": [],
   "source": [
    "frame = frame.join(pd.get_dummies(frame['Building Material'], prefix='Material'))"
   ]
  },
  {
   "cell_type": "markdown",
   "id": "91e13ca2",
   "metadata": {
    "heading_collapsed": true,
    "hidden": true
   },
   "source": [
    "### Outlier Detection"
   ]
  },
  {
   "cell_type": "code",
   "execution_count": 15,
   "id": "97bd7ae4",
   "metadata": {
    "hidden": true
   },
   "outputs": [],
   "source": [
    "houses = frame[frame['Product Type'] == 'house']\n",
    "apartments = frame[frame['Product Type'] == 'apartment']\n",
    "houses.reset_index(drop=True, inplace=True)\n",
    "apartments.reset_index(drop=True, inplace=True)"
   ]
  },
  {
   "cell_type": "code",
   "execution_count": 16,
   "id": "e3564578",
   "metadata": {
    "hidden": true
   },
   "outputs": [
    {
     "name": "stdout",
     "output_type": "stream",
     "text": [
      "2255    106000000\n",
      "7123     65625000\n",
      "7039     39000000\n",
      "7086     36750000\n",
      "7038     32550000\n",
      "Name: Price, dtype: int64\n",
      "1627    5000000\n",
      "205     3000000\n",
      "155     2750000\n",
      "22      2700000\n",
      "2999    2500000\n",
      "Name: Price, dtype: int64\n"
     ]
    }
   ],
   "source": [
    "print(apartments.sort_values(by=['Price'], ascending=False)['Price'].head(5))\n",
    "print(houses.sort_values(by=['Price'], ascending=False)['Price'].head(5))"
   ]
  },
  {
   "cell_type": "code",
   "execution_count": 17,
   "id": "ebb27559",
   "metadata": {
    "hidden": true
   },
   "outputs": [
    {
     "name": "stderr",
     "output_type": "stream",
     "text": [
      "100%|███████████████████████████████████████████████████████████████████████████████████| 4/4 [00:00<00:00, 285.64it/s]"
     ]
    },
    {
     "name": "stdout",
     "output_type": "stream",
     "text": [
      "Identified outliers: 484\n",
      "Non-outlier observations: 10679\n",
      "________________________________\n",
      "Identified outliers: 0\n",
      "Non-outlier observations: 11163\n",
      "________________________________\n",
      "Identified outliers: 940\n",
      "Non-outlier observations: 10223\n",
      "________________________________\n",
      "Identified outliers: 675\n",
      "Non-outlier observations: 10488\n",
      "________________________________\n"
     ]
    },
    {
     "name": "stderr",
     "output_type": "stream",
     "text": [
      "\n"
     ]
    }
   ],
   "source": [
    "apartments_no_outliers = remove_outliers(apartments)"
   ]
  },
  {
   "cell_type": "code",
   "execution_count": 18,
   "id": "2ebadd9c",
   "metadata": {
    "hidden": true
   },
   "outputs": [
    {
     "name": "stderr",
     "output_type": "stream",
     "text": [
      "100%|███████████████████████████████████████████████████████████████████████████████████| 4/4 [00:00<00:00, 800.25it/s]"
     ]
    },
    {
     "name": "stdout",
     "output_type": "stream",
     "text": [
      "Identified outliers: 37\n",
      "Non-outlier observations: 3570\n",
      "________________________________\n",
      "Identified outliers: 30\n",
      "Non-outlier observations: 3577\n",
      "________________________________\n",
      "Identified outliers: 293\n",
      "Non-outlier observations: 3314\n",
      "________________________________\n",
      "Identified outliers: 193\n",
      "Non-outlier observations: 3414\n",
      "________________________________\n"
     ]
    },
    {
     "name": "stderr",
     "output_type": "stream",
     "text": [
      "\n"
     ]
    }
   ],
   "source": [
    "houses_no_outliers = remove_outliers(houses)"
   ]
  },
  {
   "cell_type": "code",
   "execution_count": 19,
   "id": "ac40a50e",
   "metadata": {
    "hidden": true
   },
   "outputs": [
    {
     "name": "stdout",
     "output_type": "stream",
     "text": [
      "8648    315000\n",
      "9740    315000\n",
      "3075    315000\n",
      "3786    315000\n",
      "7894    315000\n",
      "Name: Price, dtype: int64\n",
      "2213    790000\n",
      "583     790000\n",
      "195     770000\n",
      "774     770000\n",
      "1       770000\n",
      "Name: Price, dtype: int64\n"
     ]
    }
   ],
   "source": [
    "print(apartments_no_outliers.sort_values(by=['Price'], ascending=False)['Price'].head(5))\n",
    "print(houses_no_outliers.sort_values(by=['Price'], ascending=False)['Price'].head(5))"
   ]
  },
  {
   "cell_type": "markdown",
   "id": "f89c6f48",
   "metadata": {
    "heading_collapsed": true,
    "hidden": true
   },
   "source": [
    "### Concatenate"
   ]
  },
  {
   "cell_type": "code",
   "execution_count": 20,
   "id": "3444eb92",
   "metadata": {
    "hidden": true
   },
   "outputs": [],
   "source": [
    "full_no_outliers = apartments_no_outliers.append(houses_no_outliers, ignore_index = True)"
   ]
  },
  {
   "cell_type": "markdown",
   "id": "57b2a8c8",
   "metadata": {
    "heading_collapsed": true,
    "hidden": true
   },
   "source": [
    "### Drop Redundancies & Store"
   ]
  },
  {
   "cell_type": "code",
   "execution_count": 21,
   "id": "e8715d32",
   "metadata": {
    "hidden": true
   },
   "outputs": [],
   "source": [
    "full_no_outliers.drop(columns=['Facilities', 'Building Material'], inplace=True)"
   ]
  },
  {
   "cell_type": "code",
   "execution_count": 22,
   "id": "deef6fb0",
   "metadata": {
    "hidden": true
   },
   "outputs": [],
   "source": [
    "full_no_outliers.to_csv('dataFacilities.csv')"
   ]
  },
  {
   "cell_type": "markdown",
   "id": "76025ecc",
   "metadata": {
    "heading_collapsed": true,
    "hidden": true
   },
   "source": [
    "## Without Facilities (full data)"
   ]
  },
  {
   "cell_type": "markdown",
   "id": "c6af8395",
   "metadata": {
    "heading_collapsed": true,
    "hidden": true
   },
   "source": [
    "### Concatenate"
   ]
  },
  {
   "cell_type": "code",
   "execution_count": 23,
   "id": "a22e208a",
   "metadata": {
    "hidden": true
   },
   "outputs": [],
   "source": [
    "csvs = ['bnakaran.csv', 'DataRealEstate.csv', 'EstateAmData.csv', 'MyRealty.csv', 'list.csv']\n",
    "\n",
    "path = os.getcwd()\n",
    "all_files = glob.glob(os.path.join(path, \"*.csv\"))\n",
    "\n",
    "desired_files = []\n",
    "for csv in all_files:\n",
    "    for name in csvs:\n",
    "        if name in csv:\n",
    "            desired_files.append(csv)\n",
    "        else:\n",
    "            continue\n",
    "\n",
    "li = []\n",
    "for filename in desired_files:\n",
    "    df = pd.read_csv(filename, index_col=0, header=0)\n",
    "    li.append(df)\n",
    "\n",
    "frame = pd.concat(li, axis=0, ignore_index=True)\n",
    "frame.drop(columns=['Additional Info', 'Facilities'], inplace=True)\n",
    "\n",
    "for count, row in enumerate(frame['Building Material']):\n",
    "    if row != row:\n",
    "        continue\n",
    "    else:\n",
    "        frame['Building Material'][count] = row.lower()"
   ]
  },
  {
   "cell_type": "markdown",
   "id": "99cd6464",
   "metadata": {
    "heading_collapsed": true,
    "hidden": true
   },
   "source": [
    "### Mapping"
   ]
  },
  {
   "cell_type": "code",
   "execution_count": 24,
   "id": "9dae72ea",
   "metadata": {
    "hidden": true
   },
   "outputs": [],
   "source": [
    "all_materials = []\n",
    "for row in frame['Building Material']:\n",
    "    if row != row:\n",
    "        continue \n",
    "    else:\n",
    "        all_materials.append(row)"
   ]
  },
  {
   "cell_type": "code",
   "execution_count": 25,
   "id": "cb04fc49",
   "metadata": {
    "hidden": true
   },
   "outputs": [
    {
     "data": {
      "text/plain": [
       "<bound method Counter.most_common of Counter({'stone': 27130, 'panels': 8594, 'monolith': 5577, 'monolit': 4166, 'panel': 2596, 'other': 813, 'concrete': 599, 'wall building': 169, 'cassette': 141, 'bricks': 107, 'wooden': 71, 'մոնոլիտ': 1, 'քարե': 1, 'монолит': 1})>"
      ]
     },
     "execution_count": 25,
     "metadata": {},
     "output_type": "execute_result"
    }
   ],
   "source": [
    "Counter(all_materials).most_common"
   ]
  },
  {
   "cell_type": "code",
   "execution_count": 26,
   "id": "1e31a2c4",
   "metadata": {
    "hidden": true
   },
   "outputs": [],
   "source": [
    "d = dict()\n",
    "\n",
    "d['stone'] = 'Stone'\n",
    "d['քարե'] = 'Stone'\n",
    "\n",
    "d['monolit'] = 'Monolit'\n",
    "d['concrete'] = 'Monolit'\n",
    "d['մոնոլիտ'] = 'Monolit'\n",
    "d['монолит'] = 'Monolit'\n",
    "d['monolith'] = 'Monolit'\n",
    "\n",
    "d['wall building'] = 'Panel'\n",
    "d['panel'] = 'Panel'\n",
    "d['panels'] = 'Panel'"
   ]
  },
  {
   "cell_type": "code",
   "execution_count": 27,
   "id": "0bba1cd6",
   "metadata": {
    "hidden": true
   },
   "outputs": [],
   "source": [
    "for count, row in enumerate(frame['Building Material']):\n",
    "    if row in d:\n",
    "        frame['Building Material'][count] = d[row]\n",
    "    else:\n",
    "        continue"
   ]
  },
  {
   "cell_type": "markdown",
   "id": "072fc968",
   "metadata": {
    "heading_collapsed": true,
    "hidden": true
   },
   "source": [
    "### One Hot Encode"
   ]
  },
  {
   "cell_type": "code",
   "execution_count": 28,
   "id": "6b3cc97f",
   "metadata": {
    "hidden": true
   },
   "outputs": [],
   "source": [
    "frame = frame.join(pd.get_dummies(frame['Building Material'], prefix='Material'))"
   ]
  },
  {
   "cell_type": "markdown",
   "id": "3b8d2f2e",
   "metadata": {
    "heading_collapsed": true,
    "hidden": true
   },
   "source": [
    "### Outlier Detection"
   ]
  },
  {
   "cell_type": "code",
   "execution_count": 29,
   "id": "5c38722e",
   "metadata": {
    "hidden": true
   },
   "outputs": [],
   "source": [
    "houses = frame[frame['Product Type'] == 'house']\n",
    "apartments = frame[frame['Product Type'] == 'apartment']\n",
    "houses.reset_index(drop=True, inplace=True)\n",
    "apartments.reset_index(drop=True, inplace=True)"
   ]
  },
  {
   "cell_type": "code",
   "execution_count": 30,
   "id": "f28717c3",
   "metadata": {
    "hidden": true
   },
   "outputs": [
    {
     "name": "stdout",
     "output_type": "stream",
     "text": [
      "20342    145000000.0\n",
      "2255     106000000.0\n",
      "23491     69600000.0\n",
      "9856      69500000.0\n",
      "7123      65625000.0\n",
      "Name: Price, dtype: float64\n",
      "4547     2.500000e+09\n",
      "16475    3.500000e+08\n",
      "15892    3.250000e+08\n",
      "15368    1.800000e+08\n",
      "9406     1.800000e+08\n",
      "Name: Price, dtype: float64\n"
     ]
    }
   ],
   "source": [
    "print(apartments.sort_values(by=['Price'], ascending=False)['Price'].head(5))\n",
    "print(houses.sort_values(by=['Price'], ascending=False)['Price'].head(5))"
   ]
  },
  {
   "cell_type": "code",
   "execution_count": 31,
   "id": "d3bbdafd",
   "metadata": {
    "hidden": true
   },
   "outputs": [
    {
     "name": "stderr",
     "output_type": "stream",
     "text": [
      "100%|███████████████████████████████████████████████████████████████████████████████████| 4/4 [00:00<00:00, 231.57it/s]"
     ]
    },
    {
     "name": "stdout",
     "output_type": "stream",
     "text": [
      "Identified outliers: 37\n",
      "Non-outlier observations: 18289\n",
      "________________________________\n",
      "Identified outliers: 742\n",
      "Non-outlier observations: 17584\n",
      "________________________________\n",
      "Identified outliers: 1587\n",
      "Non-outlier observations: 16739\n",
      "________________________________\n",
      "Identified outliers: 1380\n",
      "Non-outlier observations: 16946\n",
      "________________________________\n"
     ]
    },
    {
     "name": "stderr",
     "output_type": "stream",
     "text": [
      "\n"
     ]
    }
   ],
   "source": [
    "houses_no_outliers = remove_outliers(houses)"
   ]
  },
  {
   "cell_type": "code",
   "execution_count": 32,
   "id": "4e614a43",
   "metadata": {
    "hidden": true
   },
   "outputs": [
    {
     "name": "stderr",
     "output_type": "stream",
     "text": [
      "100%|███████████████████████████████████████████████████████████████████████████████████| 4/4 [00:00<00:00, 151.91it/s]"
     ]
    },
    {
     "name": "stdout",
     "output_type": "stream",
     "text": [
      "Identified outliers: 1004\n",
      "Non-outlier observations: 30636\n",
      "________________________________\n",
      "Identified outliers: 0\n",
      "Non-outlier observations: 31640\n",
      "________________________________\n",
      "Identified outliers: 2595\n",
      "Non-outlier observations: 29045\n",
      "________________________________\n",
      "Identified outliers: 1648\n",
      "Non-outlier observations: 29992\n",
      "________________________________\n"
     ]
    },
    {
     "name": "stderr",
     "output_type": "stream",
     "text": [
      "\n"
     ]
    }
   ],
   "source": [
    "apartments_no_outliers = remove_outliers(apartments)"
   ]
  },
  {
   "cell_type": "code",
   "execution_count": 33,
   "id": "6e00c4f7",
   "metadata": {
    "hidden": true
   },
   "outputs": [
    {
     "name": "stdout",
     "output_type": "stream",
     "text": [
      "3591     250000.0\n",
      "4722     250000.0\n",
      "30247    250000.0\n",
      "1273     250000.0\n",
      "3939     250000.0\n",
      "Name: Price, dtype: float64\n",
      "4679     540500.0\n",
      "13723    540000.0\n",
      "3626     540000.0\n",
      "15418    540000.0\n",
      "1133     540000.0\n",
      "Name: Price, dtype: float64\n"
     ]
    }
   ],
   "source": [
    "print(apartments_no_outliers.sort_values(by=['Price'], ascending=False)['Price'].head(5))\n",
    "print(houses_no_outliers.sort_values(by=['Price'], ascending=False)['Price'].head(5))"
   ]
  },
  {
   "cell_type": "markdown",
   "id": "2a0e843b",
   "metadata": {
    "heading_collapsed": true,
    "hidden": true
   },
   "source": [
    "### Concatenate"
   ]
  },
  {
   "cell_type": "code",
   "execution_count": 34,
   "id": "703669ea",
   "metadata": {
    "hidden": true
   },
   "outputs": [],
   "source": [
    "full_no_outliers = apartments_no_outliers.append(houses_no_outliers, ignore_index = True)"
   ]
  },
  {
   "cell_type": "markdown",
   "id": "6ffc00d9",
   "metadata": {
    "heading_collapsed": true,
    "hidden": true
   },
   "source": [
    "### Drop Redundancies & Store"
   ]
  },
  {
   "cell_type": "code",
   "execution_count": 35,
   "id": "39dcdc4d",
   "metadata": {
    "hidden": true
   },
   "outputs": [],
   "source": [
    "full_no_outliers.drop(columns=['Building Material'], inplace=True)"
   ]
  },
  {
   "cell_type": "code",
   "execution_count": 36,
   "id": "0d249d8c",
   "metadata": {
    "hidden": true
   },
   "outputs": [],
   "source": [
    "full_no_outliers.to_csv('dataFullNoFacilities.csv')"
   ]
  }
 ],
 "metadata": {
  "kernelspec": {
   "display_name": "Python 3 (ipykernel)",
   "language": "python",
   "name": "python3"
  },
  "language_info": {
   "codemirror_mode": {
    "name": "ipython",
    "version": 3
   },
   "file_extension": ".py",
   "mimetype": "text/x-python",
   "name": "python",
   "nbconvert_exporter": "python",
   "pygments_lexer": "ipython3",
   "version": "3.9.7"
  }
 },
 "nbformat": 4,
 "nbformat_minor": 5
}
